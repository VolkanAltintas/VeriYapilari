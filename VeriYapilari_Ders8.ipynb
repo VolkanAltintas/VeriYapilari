{
  "nbformat": 4,
  "nbformat_minor": 0,
  "metadata": {
    "colab": {
      "name": "VeriYapilari_Ders8.ipynb",
      "provenance": [],
      "authorship_tag": "ABX9TyP1w2FdXjzvjxTNxDCGg6JR"
    },
    "kernelspec": {
      "name": "python3",
      "display_name": "Python 3"
    },
    "language_info": {
      "name": "python"
    }
  },
  "cells": [
    {
      "cell_type": "code",
      "metadata": {
        "colab": {
          "base_uri": "https://localhost:8080/"
        },
        "id": "sIsUw7IChlRB",
        "outputId": "93f4cebc-eb09-4ffe-e340-33247d4032ae"
      },
      "source": [
        "sayi=input(\"Bir sayı girin: \") #str türünde 950\n",
        "toplam=0\n",
        "for rakam in sayi:\n",
        "  toplam += int(rakam) # toplam=toplam+int(rakam)\n",
        " \n",
        "print(\"sayının rakamları toplamı:\",toplam)"
      ],
      "execution_count": 2,
      "outputs": [
        {
          "output_type": "stream",
          "text": [
            "Bir sayı girin: 56789\n",
            "sayının rakamları toplamı: 35\n"
          ],
          "name": "stdout"
        }
      ]
    },
    {
      "cell_type": "code",
      "metadata": {
        "colab": {
          "base_uri": "https://localhost:8080/"
        },
        "id": "hCbRqG7Oh_3_",
        "outputId": "d43dab7f-a20d-44c3-844e-46308f0562e9"
      },
      "source": [
        "sayilar = [18,15,22,19,85,32,65,30,95,10,12,20,32,55,34,28,101,5,4,32]\n",
        "sayac=0 \n",
        "for sayi in sayilar:\n",
        "  if sayi%5 == 0:\n",
        "    print ( \"{} sayısı 5'in katıdır.\".format(sayi))\n",
        "    sayac=sayac+1\n",
        " \n",
        "print(\"5'in katı olan sayı adeti : \"+str(sayac))"
      ],
      "execution_count": 3,
      "outputs": [
        {
          "output_type": "stream",
          "text": [
            "15 sayısı 5'in katıdır.\n",
            "85 sayısı 5'in katıdır.\n",
            "65 sayısı 5'in katıdır.\n",
            "30 sayısı 5'in katıdır.\n",
            "95 sayısı 5'in katıdır.\n",
            "10 sayısı 5'in katıdır.\n",
            "20 sayısı 5'in katıdır.\n",
            "55 sayısı 5'in katıdır.\n",
            "5 sayısı 5'in katıdır.\n",
            "5'in katı olan sayı adeti : 9\n"
          ],
          "name": "stdout"
        }
      ]
    },
    {
      "cell_type": "code",
      "metadata": {
        "colab": {
          "base_uri": "https://localhost:8080/"
        },
        "id": "NuHJGKtDifOH",
        "outputId": "491ae679-32c3-4993-c110-bfdc7ac4f867"
      },
      "source": [
        "numaralar = input(\"Virgül ile sayıları giriniz.: \")\n",
        "print(type(numaralar))\n",
        "print(\"Girdiğiniz Sayılar: {0}\".format(numaralar))\n",
        " \n",
        "numaralarArr = numaralar.split(\",\")\n",
        "print(type(numaralarArr))\n",
        "print(numaralarArr)\n",
        "toplam = 0\n",
        "for n in numaralarArr:\n",
        "    toplam = toplam + int(n)\n",
        " \n",
        "print(\"GİRDİĞİNİZ SAYILARIN ORTALAMASI:{0:.2f} \".format(toplam / len(numaralarArr)))\n",
        " "
      ],
      "execution_count": 7,
      "outputs": [
        {
          "output_type": "stream",
          "text": [
            "Virgül ile sayıları giriniz.: 30,50,70,30\n",
            "<class 'str'>\n",
            "Girdiğiniz Sayılar: 30,50,70,30\n",
            "<class 'list'>\n",
            "['30', '50', '70', '30']\n",
            "GİRDİĞİNİZ SAYILARIN ORTALAMASI:45.00 \n"
          ],
          "name": "stdout"
        }
      ]
    },
    {
      "cell_type": "code",
      "metadata": {
        "colab": {
          "base_uri": "https://localhost:8080/"
        },
        "id": "B_NVbK2niuIX",
        "outputId": "9f3fd04e-9719-48f1-b4e7-995b4078379e"
      },
      "source": [
        "telefon_defteri = {\"ahmet öz\" : \"0532 532 32 32\",\n",
        "                   \"mehmet su\": \"0543 543 42 42\",\n",
        "                   \"seda naz\" : \"0533 533 33 33\",\n",
        "                   \"eda ala\"  : \"0212 212 12 12\"}\n",
        "\n",
        "kişi = input(\"Telefon numarasını öğrenmek için bir kişi adı girin: \")\n",
        "\n",
        "if kişi in telefon_defteri:\n",
        "    cevap = \"{} adlı kişinin telefon numarası: {}\"\n",
        "    print(cevap.format(kişi, telefon_defteri[kişi]))\n",
        "else:\n",
        "    print(\"Aradığınız kişi telefon rehberinde yok!\")"
      ],
      "execution_count": 10,
      "outputs": [
        {
          "output_type": "stream",
          "text": [
            "Telefon numarasını öğrenmek için bir kişi adı girin: ahmet öz\n",
            "ahmet öz adlı kişinin telefon numarası: 0532 532 32 32\n"
          ],
          "name": "stdout"
        }
      ]
    },
    {
      "cell_type": "code",
      "metadata": {
        "colab": {
          "base_uri": "https://localhost:8080/"
        },
        "id": "rLkRbCMFp4z2",
        "outputId": "86f730d9-9ca2-4115-8bfd-dfadb1d28bd6"
      },
      "source": [
        "from random import randint\n",
        " \n",
        "rand=randint(1, 100) #random rnd=new random(); sayi=rnd.next(1,20);\n",
        "sayac=0\n",
        " \n",
        "while True:\n",
        "    sayac+=1\n",
        "    sayi=int(input(\"1 ile 100 arasında değer girin (0 çıkış):\"))\n",
        "    if(sayi==0):\n",
        "        print(\"Oyunu İptal Ettiniz\")\n",
        "        break\n",
        "    elif sayi < rand:\n",
        "        print(\"Daha Yüksek Bir Sayı Girin.\")\n",
        "        continue\n",
        "    elif sayi > rand:\n",
        "        print(\"Daha Düşük Bir Sayı Girin.\")\n",
        "        continue\n",
        "    else:\n",
        "        print(\"Rastele seçilen sayı {0}!\".format(rand))\n",
        "        print(\"Tahmin sayınız {0}\".format(sayac))"
      ],
      "execution_count": 11,
      "outputs": [
        {
          "output_type": "stream",
          "text": [
            "1 ile 100 arasında değer girin (0 çıkış):50\n",
            "Daha Düşük Bir Sayı Girin.\n",
            "1 ile 100 arasında değer girin (0 çıkış):25\n",
            "Daha Düşük Bir Sayı Girin.\n",
            "1 ile 100 arasında değer girin (0 çıkış):12\n",
            "Daha Yüksek Bir Sayı Girin.\n",
            "1 ile 100 arasında değer girin (0 çıkış):19\n",
            "Daha Yüksek Bir Sayı Girin.\n",
            "1 ile 100 arasında değer girin (0 çıkış):22\n",
            "Daha Yüksek Bir Sayı Girin.\n",
            "1 ile 100 arasında değer girin (0 çıkış):23\n",
            "Rastele seçilen sayı 23!\n",
            "Tahmin sayınız 6\n",
            "1 ile 100 arasında değer girin (0 çıkış):23\n",
            "Rastele seçilen sayı 23!\n",
            "Tahmin sayınız 7\n",
            "1 ile 100 arasında değer girin (0 çıkış):0\n",
            "Oyunu İptal Ettiniz\n"
          ],
          "name": "stdout"
        }
      ]
    },
    {
      "cell_type": "code",
      "metadata": {
        "colab": {
          "base_uri": "https://localhost:8080/"
        },
        "id": "eO9iRIQ4qa42",
        "outputId": "7e4b0e2b-487a-4ef0-ebb8-f0ffb8b4bb6d"
      },
      "source": [
        "satirlar = [] #list()\n",
        "while True:\n",
        "    s = input(\"Giriş Yapın\\n\")\n",
        "    if s:\n",
        "        satirlar.append(s.upper()) #s.lower()\n",
        "    else:\n",
        "        break;\n",
        " \n",
        "for satir in satirlar:\n",
        "    print (satir)"
      ],
      "execution_count": 12,
      "outputs": [
        {
          "output_type": "stream",
          "text": [
            "Giriş Yapın\n",
            "Python\n",
            "Giriş Yapın\n",
            "Akhisar\n",
            "Giriş Yapın\n",
            "Bilgisayar\n",
            "Giriş Yapın\n",
            "\n",
            "PYTHON\n",
            "AKHISAR\n",
            "BILGISAYAR\n"
          ],
          "name": "stdout"
        }
      ]
    },
    {
      "cell_type": "markdown",
      "metadata": {
        "id": "DJ-zPrXWiOnZ"
      },
      "source": [
        "KAYNAKÇA\n",
        "\n",
        "1-https://www.algoritmaornekleri.com/python/\n",
        "\n",
        "2-https://python-istihza.yazbel.com/\n",
        "\n",
        "3-https://www.tasarimkodlama.com/python-programlama/python-ornekleri/\n",
        "\n"
      ]
    }
  ]
}