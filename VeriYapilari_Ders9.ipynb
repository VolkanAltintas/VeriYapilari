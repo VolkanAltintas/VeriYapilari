{
  "nbformat": 4,
  "nbformat_minor": 0,
  "metadata": {
    "colab": {
      "name": "VeriYapilari_Ders9.ipynb",
      "provenance": [],
      "authorship_tag": "ABX9TyMFPQSs4KRSph5QLrzKk8SS"
    },
    "kernelspec": {
      "name": "python3",
      "display_name": "Python 3"
    },
    "language_info": {
      "name": "python"
    }
  },
  "cells": [
    {
      "cell_type": "markdown",
      "metadata": {
        "id": "Je1I-PuHlhkN"
      },
      "source": [
        "**Sıralama Algoritmaları**\n",
        "\n",
        "Selection Sort \n",
        "\n",
        "Bubble Sort\n",
        "\n",
        "Insertion Sort \n",
        "\n",
        "Merge Sort\n",
        "\n",
        "Quick Sort"
      ]
    },
    {
      "cell_type": "code",
      "metadata": {
        "colab": {
          "base_uri": "https://localhost:8080/"
        },
        "id": "Ietj2cLejULr",
        "outputId": "5103e17c-43b8-4515-f324-f3e893235ab4"
      },
      "source": [
        "def sort(nums):\n",
        "  \"\"\" Buble Sort Sıralama Algoritması\n",
        "  Kendinden sonraki değeri kontrol eder, Değiştirilmesi gerekiyorsa değişiklik yapar.\"\"\"\n",
        "  for i in range(0,len(nums)): #0-7  0,\n",
        "      for j in range(0,len(nums)-1): #0-6.  0,1,2,3\n",
        "          if nums[j] > nums[j+1] : # 2>3\n",
        "              nums[j],nums[j+1]=nums[j+1],nums[j] #iki indisin yerini değiştir...\n",
        "          else:\n",
        "              continue\n",
        "  print(nums)\n",
        "  \n",
        "dataList=[2,5,6,-1,20,30,15,25] #\n",
        "sort(dataList)"
      ],
      "execution_count": 4,
      "outputs": [
        {
          "output_type": "stream",
          "text": [
            "[-1, 2, 5, 6, 15, 20, 25, 30]\n"
          ],
          "name": "stdout"
        }
      ]
    },
    {
      "cell_type": "code",
      "metadata": {
        "colab": {
          "base_uri": "https://localhost:8080/"
        },
        "id": "yOsvbSJYkOBQ",
        "outputId": "538e8a8d-642c-4180-c584-48e33e3edab8"
      },
      "source": [
        "def secerek_sirala(liste):\n",
        "  \"\"\"Dizideki en küçük elemanı ilk sıraya yerleştirir, \n",
        "  kalanlardan en küçük olanı da ikinci sıraya yerleştirir.\n",
        "  Bir eleman kalana kadar bu şekilde devam eder.\"\"\"\n",
        "  for i in range(len(liste)-1):#0-6 -- i=0\n",
        "        enk = liste[i]\n",
        "        enk_indis = i\n",
        "        for j in range(i+1, len(liste)):# i+1- 7.  j=4\n",
        "            if liste[j] < enk:\n",
        "                enk = liste[j]\n",
        "                enk_indis = j\n",
        "        depo = liste[i]\n",
        "        liste[i] = liste[enk_indis]\n",
        "        liste[enk_indis] = depo\n",
        "        print(liste)\n",
        "  print(liste)\n",
        "\n",
        "a = [3, 4, 1, 1000, -1, 25, 35, 111]\n",
        "secerek_sirala(a)\n",
        "#enk =-1  enk_indis=4"
      ],
      "execution_count": 7,
      "outputs": [
        {
          "output_type": "stream",
          "text": [
            "[-1, 4, 1, 1000, 3, 25, 35, 111]\n",
            "[-1, 1, 4, 1000, 3, 25, 35, 111]\n",
            "[-1, 1, 3, 1000, 4, 25, 35, 111]\n",
            "[-1, 1, 3, 4, 1000, 25, 35, 111]\n",
            "[-1, 1, 3, 4, 25, 1000, 35, 111]\n",
            "[-1, 1, 3, 4, 25, 35, 1000, 111]\n",
            "[-1, 1, 3, 4, 25, 35, 111, 1000]\n",
            "[-1, 1, 3, 4, 25, 35, 111, 1000]\n"
          ],
          "name": "stdout"
        }
      ]
    },
    {
      "cell_type": "code",
      "metadata": {
        "colab": {
          "base_uri": "https://localhost:8080/"
        },
        "id": "m7SQ0tcHKswY",
        "outputId": "162e05ce-d816-4594-e2d0-5e75d81c70e8"
      },
      "source": [
        "x=3\n",
        "y=5 \n",
        "yardimci=x\n",
        "x=y\n",
        "y=yardimci\n",
        "\n",
        "print(x)\n",
        "print(y)"
      ],
      "execution_count": 1,
      "outputs": [
        {
          "output_type": "stream",
          "text": [
            "5\n",
            "3\n"
          ],
          "name": "stdout"
        }
      ]
    },
    {
      "cell_type": "markdown",
      "metadata": {
        "id": "z-IWgeQbZHkD"
      },
      "source": [
        "Insertion Sort Pseudo (sözde Kod) Kod\n",
        "\n",
        "1- bir sayıyı eline al solundaki sayılara bak\n",
        "\n",
        "2- Soldaki sayı elindeki sayıdan büyükse bir sağa kaydır.\n",
        "\n",
        "3- Kendisinden küçük sayı bulunca boş bulunan indise yerleştir.\n",
        "\n",
        "4- Diğer sayıya geç.\n",
        "\n",
        "Burada dikkat etmeniz gereken 1. adım, 1. indisten başlar (0. indis değil)"
      ]
    },
    {
      "cell_type": "code",
      "metadata": {
        "colab": {
          "base_uri": "https://localhost:8080/"
        },
        "id": "TgyTKXbLYF3u",
        "outputId": "22e97b07-b0c2-48d1-f3c9-39200b42d804"
      },
      "source": [
        "def insertionSort(arr):\n",
        " for i in range(1, len(arr)):#1-7 i=1\n",
        "  deger = arr[i] #deger=4\n",
        "  j = i-1 #j=0\n",
        "  while j >=0 and deger< arr[j] :\n",
        "    arr[j+1] = arr[j]\n",
        "    j -= 1\n",
        "  arr[j+1] = deger\n",
        "  print(arr)\n",
        "a = [3, 4, 1, 1000, -1, 25, 35, 111]\n",
        "insertionSort(a)\n",
        "print(a)"
      ],
      "execution_count": 10,
      "outputs": [
        {
          "output_type": "stream",
          "text": [
            "[3, 4, 1, 1000, -1, 25, 35, 111]\n",
            "[1, 3, 4, 1000, -1, 25, 35, 111]\n",
            "[1, 3, 4, 1000, -1, 25, 35, 111]\n",
            "[-1, 1, 3, 4, 1000, 25, 35, 111]\n",
            "[-1, 1, 3, 4, 25, 1000, 35, 111]\n",
            "[-1, 1, 3, 4, 25, 35, 1000, 111]\n",
            "[-1, 1, 3, 4, 25, 35, 111, 1000]\n",
            "[-1, 1, 3, 4, 25, 35, 111, 1000]\n"
          ],
          "name": "stdout"
        }
      ]
    },
    {
      "cell_type": "code",
      "metadata": {
        "colab": {
          "base_uri": "https://localhost:8080/"
        },
        "id": "KCwSolMRZj91",
        "outputId": "5f24ca7c-6e5b-48ec-d4e8-0a3cecfbc656"
      },
      "source": [
        "def merge(sol, sag):\n",
        "\tif not len(sol) or not len(sag):\n",
        "\t\treturn sol or sag\n",
        "\n",
        "\tsonuc = []#list()\n",
        "\ti, j = 0, 0\n",
        "\twhile (len(sonuc) < len(sol) + len(sag)):\n",
        "\t\tif sol[i] < sag[j]:\n",
        "\t\t\tsonuc.append(sol[i])\n",
        "\t\t\ti+= 1\n",
        "\t\telse:\n",
        "\t\t\tsonuc.append(sag[j])\n",
        "\t\t\tj+= 1\n",
        "\t\tif i == len(sol) or j == len(sag):\n",
        "\t\t\tsonuc.extend(sol[i:] or sag[j:])\n",
        "\t\t\tbreak \n",
        "  \n",
        "\treturn sonuc\n",
        "\n",
        "def mergesort(arr):\n",
        "\tif len(arr) < 2:\n",
        "\t\treturn arr\n",
        "\n",
        "\torta = len(arr)//2\n",
        "\tsol = mergesort(arr[:orta])\n",
        "\tsag = mergesort(arr[orta:])\n",
        "\treturn merge(sol, sag)\n",
        "a = [3, 4, 1, 1000, -1, 25, 35, 111]\n",
        "mergesort(a)\n"
      ],
      "execution_count": 18,
      "outputs": [
        {
          "output_type": "execute_result",
          "data": {
            "text/plain": [
              "[-1, 1, 3, 4, 25, 35, 111, 1000]"
            ]
          },
          "metadata": {
            "tags": []
          },
          "execution_count": 18
        }
      ]
    },
    {
      "cell_type": "code",
      "metadata": {
        "colab": {
          "base_uri": "https://localhost:8080/"
        },
        "id": "6AdI4C2vb37V",
        "outputId": "3c55e3cf-d738-4a9a-a2e4-f0a091f59c8d"
      },
      "source": [
        "def parcalama(arr,low,high): \n",
        "    i = (low-1)       \n",
        "    pivot_deger = arr[high]    \n",
        "    for j in range(low , high): \n",
        "        if(arr[j] < pivot_deger): \n",
        "            i = i+1 \n",
        "            arr[i],arr[j] = arr[j],arr[i] \n",
        "    arr[i+1],arr[high] = arr[high],arr[i+1] \n",
        "    return ( i+1 ) \n",
        "  \n",
        "def quickSort(arr,low,high): \n",
        "    if(low < high): \n",
        "        pivot_deger = parcalama(arr,low,high) \n",
        "        quickSort(arr, low, pivot_deger-1) \n",
        "        quickSort(arr, pivot_deger+1, high) \n",
        "a = [3, 4, 1, 1000, -1, 25, 35, 111]        \n",
        "quickSort(a,0,len(a)-1)\n",
        "print(a)"
      ],
      "execution_count": 19,
      "outputs": [
        {
          "output_type": "stream",
          "text": [
            "[-1, 1, 3, 4, 25, 35, 111, 1000]\n"
          ],
          "name": "stdout"
        }
      ]
    },
    {
      "cell_type": "markdown",
      "metadata": {
        "id": "GL3eT0AnZKis"
      },
      "source": [
        "KAYNAKÇA\n",
        "\n",
        "https://yazilim.net/insertion-sort-algoritmasi-ve-ccjavapython-ornekleri-h5ieBDtiY\n",
        "\n",
        "https://teknoloji.org/siralama-algoritmalari-nelerdir-nasil-calisirlar/\n",
        "\n"
      ]
    }
  ]
}