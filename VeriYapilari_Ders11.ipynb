{
  "nbformat": 4,
  "nbformat_minor": 0,
  "metadata": {
    "colab": {
      "name": "VeriYapilari_Ders11.ipynb",
      "provenance": [],
      "authorship_tag": "ABX9TyPGUQeftpnx42QA/zJ/CHO5"
    },
    "kernelspec": {
      "name": "python3",
      "display_name": "Python 3"
    },
    "language_info": {
      "name": "python"
    }
  },
  "cells": [
    {
      "cell_type": "code",
      "metadata": {
        "colab": {
          "base_uri": "https://localhost:8080/"
        },
        "id": "ht6nQaprOhXT",
        "outputId": "b452831a-01a8-4416-e92f-762ca1764f80"
      },
      "source": [
        "class Node(object):\n",
        "    # Doubly linked node\n",
        "    def __init__(self, data=None, next=None, prev=None):\n",
        "        self.data = data\n",
        "        self.next = next\n",
        "        self.prev = prev\n",
        "\n",
        "class doubly_linked_list(object):\n",
        "    def __init__(self):\n",
        "        self.head = None\n",
        "        self.tail = None\n",
        "        self.count = 0\n",
        "\n",
        "    def append_item(self, data):\n",
        "        # Append an item \n",
        "        new_item = Node(data, None, None)\n",
        "        if self.head is None:\n",
        "            self.head = new_item\n",
        "            self.tail = self.head\n",
        "        else:\n",
        "            new_item.prev = self.tail\n",
        "            self.tail.next = new_item\n",
        "            self.tail = new_item\n",
        "\n",
        "        self.count += 1\n",
        "\n",
        "    def print_forward(self):\n",
        "        for node in self.iter():\n",
        "            print(node)\n",
        "\n",
        "    def print_backward(self):\n",
        "      current=self.tail\n",
        "      while current:\n",
        "        print(current.data)\n",
        "        current=current.prev\n",
        "\n",
        "    def iter_back(self):\n",
        "      #homework....\n",
        "      yield item_val\n",
        "            \n",
        "    def iter(self):\n",
        "        # Iterate the list\n",
        "        current = self.head\n",
        "        while current:\n",
        "            item_val = current.data\n",
        "            current = current.next\n",
        "            yield item_val\n",
        "    \n",
        "    def insert_start(self,data):\n",
        "      if self.head is not None:\n",
        "        new_node=Node(data,None,None)\n",
        "        new_node.next=self.head\n",
        "        self.head.prev=new_node\n",
        "        self.head=new_node\n",
        "        self.count+=1\n",
        "      \n",
        "    def find(self,value):\n",
        "      for node in self.iter():\n",
        "        if value==node:\n",
        "          return True\n",
        "      return False\n",
        "\n",
        "items = doubly_linked_list()\n",
        "items.append_item('PHP')\n",
        "items.append_item('Python')\n",
        "items.append_item('C#')\n",
        "items.append_item('C++')\n",
        "items.append_item('Java')\n",
        "\n",
        "print(\"Items in the Doubly linked list: \")\n",
        "items.print_forward()\n",
        "print('Listemizdeki eleman sayısı:',items.count)\n",
        "items.insert_start('R')\n",
        "items.print_forward()\n",
        "#items.print_backward()\n",
        "print('Listemizdeki eleman sayısı:',items.count)\n",
        "\n",
        "if items.find('Python'):\n",
        "  print('True')\n",
        "else:\n",
        "  print('False')"
      ],
      "execution_count": 1,
      "outputs": [
        {
          "output_type": "stream",
          "text": [
            "Items in the Doubly linked list: \n",
            "PHP\n",
            "Python\n",
            "C#\n",
            "C++\n",
            "Java\n",
            "Listemizdeki eleman sayısı: 5\n",
            "R\n",
            "PHP\n",
            "Python\n",
            "C#\n",
            "C++\n",
            "Java\n",
            "Listemizdeki eleman sayısı: 6\n",
            "True\n"
          ],
          "name": "stdout"
        }
      ]
    },
    {
      "cell_type": "markdown",
      "metadata": {
        "id": "VQ1DsTkFP_Hv"
      },
      "source": [
        "KAYNAKÇA\n",
        "\n",
        "https://www.w3resource.com/python-exercises/data-structures-and-algorithms/python-linked-list.php#EDITOR"
      ]
    }
  ]
}