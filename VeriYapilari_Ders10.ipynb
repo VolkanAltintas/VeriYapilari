{
  "nbformat": 4,
  "nbformat_minor": 0,
  "metadata": {
    "colab": {
      "name": "VeriYapilari_Ders10.ipynb",
      "provenance": [],
      "authorship_tag": "ABX9TyNIkv+pBIv3ovB5RhBbXLar",
      "include_colab_link": true
    },
    "kernelspec": {
      "display_name": "Python 3",
      "name": "python3"
    },
    "language_info": {
      "name": "python"
    }
  },
  "cells": [
    {
      "cell_type": "markdown",
      "metadata": {
        "id": "view-in-github",
        "colab_type": "text"
      },
      "source": [
        "<a href=\"https://colab.research.google.com/github/VolkanAltintas/VeriYapilari/blob/main/VeriYapilari_Ders10.ipynb\" target=\"_parent\"><img src=\"https://colab.research.google.com/assets/colab-badge.svg\" alt=\"Open In Colab\"/></a>"
      ]
    },
    {
      "cell_type": "code",
      "metadata": {
        "id": "9L8OwBCRxqoa"
      },
      "source": [
        "class Node:\n",
        "  def __init__(self, data=None):\n",
        "    self.data = data\n",
        "    self.next = None\n",
        "  def __str__(self):\n",
        "    return str(data)\n"
      ],
      "execution_count": 14,
      "outputs": []
    },
    {
      "cell_type": "code",
      "metadata": {
        "id": "saH845HTyOjD"
      },
      "source": [
        "n1 = Node('eggs')\n",
        "n2 = Node('ham')\n",
        "n3 = Node('spam')"
      ],
      "execution_count": 15,
      "outputs": []
    },
    {
      "cell_type": "code",
      "metadata": {
        "id": "UqfCDGbXyaEk"
      },
      "source": [
        "n1.next = n2\n",
        "n2.next = n3"
      ],
      "execution_count": 16,
      "outputs": []
    },
    {
      "cell_type": "code",
      "metadata": {
        "colab": {
          "base_uri": "https://localhost:8080/"
        },
        "id": "Zpqbwi87yiwZ",
        "outputId": "a1a6abe5-e047-41a3-e5f1-12b4556c22e3"
      },
      "source": [
        "current = n2\n",
        "while current:\n",
        "  print(current.data)\n",
        "  current = current.next"
      ],
      "execution_count": 17,
      "outputs": [
        {
          "output_type": "stream",
          "text": [
            "ham\n",
            "spam\n"
          ],
          "name": "stdout"
        }
      ]
    },
    {
      "cell_type": "code",
      "metadata": {
        "id": "0R-Hz46yy5sh"
      },
      "source": [
        "class SinglyLinkedList:\n",
        "  def __init__(self):\n",
        "    self.tail = None\n",
        "  def append(self, data):\n",
        "    # Encapsulate the data in a Node\n",
        "    node = Node(data)\n",
        "    if self.tail == None:\n",
        "      self.tail = node\n",
        "    else:\n",
        "      current = self.tail\n",
        "      while current.next:\n",
        "        current = current.next\n",
        "      current.next = node"
      ],
      "execution_count": 18,
      "outputs": []
    },
    {
      "cell_type": "code",
      "metadata": {
        "id": "0wTGyoBjzSFK"
      },
      "source": [
        "words = SinglyLinkedList()\n",
        "words.append('egg')\n",
        "words.append('ham')\n",
        "words.append('spam')"
      ],
      "execution_count": 19,
      "outputs": []
    },
    {
      "cell_type": "code",
      "metadata": {
        "colab": {
          "base_uri": "https://localhost:8080/"
        },
        "id": "og94P7QFzcNf",
        "outputId": "e4f47db2-a5a2-438d-c29b-1b53aeed23db"
      },
      "source": [
        "current = words.tail\n",
        "while current:\n",
        "  print(current.data)\n",
        "  current = current.next"
      ],
      "execution_count": 22,
      "outputs": [
        {
          "output_type": "stream",
          "text": [
            "egg\n",
            "ham\n",
            "spam\n",
            "mail\n"
          ],
          "name": "stdout"
        }
      ]
    },
    {
      "cell_type": "code",
      "metadata": {
        "id": "526Xf-8NUvDx"
      },
      "source": [
        "words.append('mail')"
      ],
      "execution_count": 21,
      "outputs": []
    },
    {
      "cell_type": "code",
      "metadata": {
        "colab": {
          "background_save": true
        },
        "id": "0hUwmHzBzu39"
      },
      "source": [
        "class SinglyLinkedList:\n",
        "  def __init__(self):\n",
        "    self.tail = None\n",
        "    self.size += 1\n",
        "  def append(self, data):\n",
        "    node = Node(data)\n",
        "    if self.head:\n",
        "      self.head.next = node\n",
        "      self.head = node\n",
        "    else:\n",
        "      self.tail = node\n",
        "      self.head = node\n",
        "    self.size += 1\n",
        "  def size(self):\n",
        "    count = 0\n",
        "    current = self.tail\n",
        "    while current:\n",
        "      count += 1\n",
        "      current = current.next\n",
        "    return count"
      ],
      "execution_count": null,
      "outputs": []
    },
    {
      "cell_type": "code",
      "metadata": {
        "id": "tZeYL9580Irh",
        "colab": {
          "base_uri": "https://localhost:8080/"
        },
        "outputId": "3b1a796b-d2c5-466a-998b-07800bb0b9eb"
      },
      "source": [
        "# A single node of a singly linked list\n",
        "class Node:\n",
        "  # constructor\n",
        "  def __init__(self, data = None, next=None): \n",
        "    self.data = data\n",
        "    self.next = next\n",
        "\n",
        "# A Linked List class with a single head node\n",
        "class LinkedList:\n",
        "  def __init__(self):  \n",
        "    self.head = None\n",
        "\n",
        "  #############################################\n",
        "  ############ INSERT NODES ###################\n",
        "  #############################################\n",
        "\n",
        "  ######### AT THE END (APPEND) ###############\n",
        "  def append(self, data):\n",
        "    newNode = Node(data)  ## Taking the data in the as a newNode\n",
        "    if(self.head):        ## if self.head is not None then     means :=>> Linked list is not empty \n",
        "      current = self.head ## define current node as head node\n",
        "      while(current.next):## While current node is not None\n",
        "        current = current.next# increase the current node by one node\n",
        "      current.next = newNode ## current node next is equal to newNode\n",
        "    else:\n",
        "      self.head = newNode  ## linked list is empty then simply add the new node\n",
        "  \n",
        "  ######### AT THE START (PREPAND) #############\n",
        "  def prepand(self,data):\n",
        "      newNode = Node(data) ## Create a node\n",
        "      newNode.next = self.head ## Ponit the next of the new node to the head\n",
        "      self.head = newNode ## paas the head to the new node\n",
        "  \n",
        "  ######### AFTER A NODE  #######################\n",
        "  def add(self,prev_node,data):\n",
        "      if not prev_node:\n",
        "          print(\"Previous node is not in the list\")\n",
        "          return\n",
        "      else:\n",
        "          newNode = Node(data)\n",
        "          newNode.next = prev_node.next\n",
        "          prev_node.next = newNode\n",
        "  \n",
        "  ######### PRINTING ALL THE ELEMENTS  ##############\n",
        "  def printLL(self):\n",
        "    current = self.head   ## current node as head \n",
        "    while(current):       ## While current node is  not None\n",
        "      print(current.data) ## Print the data part of the node   |data|next|\n",
        "      current = current.next ## Increase the current node with one node\n",
        "\n",
        "  ##################################################\n",
        "  ############ DELETE NODES ########################\n",
        "  ##################################################\n",
        "  \n",
        "  def delete_node(self,key):\n",
        "    current = self.head\n",
        "\n",
        "    ######### AT THE START ##########################\n",
        "    if current and current.data == key:\n",
        "      self.head = current.next\n",
        "      current = None\n",
        "      return \n",
        "    ######### IN THE MIDDLE AND THE END  ############\n",
        "    prev = None\n",
        "    while current and current.data != key:\n",
        "      prev = current\n",
        "      current = current.next\n",
        "    if current is None:\n",
        "      return\n",
        "    else :\n",
        "      prev.next = current.next# A---C\n",
        "      current = None #B =None\n",
        "    ##################################################\n",
        "    ######## DELETE NODE AT A GIVEN POSITION   #######\n",
        "    ##################################################    \n",
        "  def delete_node_at_pos(self,pos):\n",
        "    current = self.head\n",
        "\n",
        "    if pos == 0:\n",
        "      self.head = current.next\n",
        "      current = None\n",
        "\n",
        "    count = 1\n",
        "    prev = None\n",
        "    while current and count != pos:\n",
        "      prev = current\n",
        "      current = current.next\n",
        "      count+=1\n",
        "    if current is None:\n",
        "      return\n",
        "    else:\n",
        "      prev.next = current.next\n",
        "      current = None\n",
        "    ##################################################\n",
        "    ###### CALCULATE THE LENGTH OF THE LINKED LIST ### \n",
        "    ##################################################\n",
        "  def length(self):\n",
        "    current = self.head\n",
        "    length = 0\n",
        "    while(current):\n",
        "      length+=1\n",
        "      current = current.next\n",
        "    return length\n",
        "\n",
        "  def find(self,data):\n",
        "    #homework.....\n",
        "    return pos\n",
        "\n",
        "# Singly Linked List with insertion and print methods\n",
        "LL = LinkedList()\n",
        "LL.append(\"A\")\n",
        "LL.append(\"A\")\n",
        "LL.append(\"A\")\n",
        "LL.append(\"A\")\n",
        "\n",
        "\n",
        "LL.printLL()\n",
        "print(LL.length())\n"
      ],
      "execution_count": 36,
      "outputs": [
        {
          "output_type": "stream",
          "text": [
            "A\n",
            "A\n",
            "A\n",
            "A\n",
            "4\n"
          ],
          "name": "stdout"
        }
      ]
    },
    {
      "cell_type": "markdown",
      "metadata": {
        "id": "3WnjypEg9IvX"
      },
      "source": [
        "KAYNAKÇA\n",
        "\n",
        "https://ichi.pro/tr/python-kullanarak-tek-baglantili-liste-gelistirin-236662131007389"
      ]
    }
  ]
}