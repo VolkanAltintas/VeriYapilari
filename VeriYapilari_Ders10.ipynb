{
  "nbformat": 4,
  "nbformat_minor": 0,
  "metadata": {
    "colab": {
      "name": "VeriYapilari_Ders10.ipynb",
      "provenance": [],
      "authorship_tag": "ABX9TyPsE9ukjXMOaNEWnBY3Toi3"
    },
    "kernelspec": {
      "display_name": "Python 3",
      "name": "python3"
    },
    "language_info": {
      "name": "python"
    }
  },
  "cells": [
    {
      "cell_type": "code",
      "metadata": {
        "id": "9L8OwBCRxqoa"
      },
      "source": [
        "class Node:\n",
        "  def __init__(self, data=None):\n",
        "    self.data = data\n",
        "    self.next = None\n",
        "  def __str__(self):\n",
        "    return str(data)\n"
      ],
      "execution_count": 1,
      "outputs": []
    },
    {
      "cell_type": "code",
      "metadata": {
        "id": "saH845HTyOjD"
      },
      "source": [
        "n1 = Node('eggs')\n",
        "n2 = Node('ham')\n",
        "n3 = Node('spam')"
      ],
      "execution_count": 2,
      "outputs": []
    },
    {
      "cell_type": "code",
      "metadata": {
        "id": "UqfCDGbXyaEk"
      },
      "source": [
        "n1.next = n2\n",
        "n2.next = n3"
      ],
      "execution_count": 3,
      "outputs": []
    },
    {
      "cell_type": "code",
      "metadata": {
        "colab": {
          "base_uri": "https://localhost:8080/"
        },
        "id": "Zpqbwi87yiwZ",
        "outputId": "a033a506-21dc-483f-bfcf-e132d52da309"
      },
      "source": [
        "current = n2\n",
        "while current:\n",
        "  print(current.data)\n",
        "  current = current.next"
      ],
      "execution_count": 4,
      "outputs": [
        {
          "output_type": "stream",
          "text": [
            "ham\n",
            "spam\n"
          ],
          "name": "stdout"
        }
      ]
    },
    {
      "cell_type": "code",
      "metadata": {
        "id": "0R-Hz46yy5sh"
      },
      "source": [
        "class SinglyLinkedList:\n",
        "  def __init__(self):\n",
        "    self.tail = None\n",
        "  def append(self, data):\n",
        "    # Encapsulate the data in a Node\n",
        "    node = Node(data)\n",
        "    if self.tail == None:\n",
        "      self.tail = node\n",
        "    else:\n",
        "      current = self.tail\n",
        "      while current.next:\n",
        "        current = current.next\n",
        "      current.next = node"
      ],
      "execution_count": 5,
      "outputs": []
    },
    {
      "cell_type": "code",
      "metadata": {
        "id": "0wTGyoBjzSFK"
      },
      "source": [
        "words = SinglyLinkedList()\n",
        "words.append('egg')\n",
        "words.append('ham')\n",
        "words.append('spam')"
      ],
      "execution_count": 6,
      "outputs": []
    },
    {
      "cell_type": "code",
      "metadata": {
        "colab": {
          "base_uri": "https://localhost:8080/"
        },
        "id": "og94P7QFzcNf",
        "outputId": "704b2bf6-ee54-4af1-d515-0b55f8d2f78a"
      },
      "source": [
        "current = words.tail\n",
        "while current:\n",
        "  print(current.data)\n",
        "  current = current.next"
      ],
      "execution_count": 7,
      "outputs": [
        {
          "output_type": "stream",
          "text": [
            "egg\n",
            "ham\n",
            "spam\n"
          ],
          "name": "stdout"
        }
      ]
    },
    {
      "cell_type": "code",
      "metadata": {
        "id": "526Xf-8NUvDx"
      },
      "source": [
        "words.append('mail')"
      ],
      "execution_count": 8,
      "outputs": []
    },
    {
      "cell_type": "code",
      "metadata": {
        "id": "0hUwmHzBzu39"
      },
      "source": [
        "class SinglyLinkedList:\n",
        "  def __init__(self):\n",
        "    self.tail = None\n",
        "    self.size += 1\n",
        "  def append(self, data):\n",
        "    node = Node(data)\n",
        "    if self.head:\n",
        "      self.head.next = node\n",
        "      self.head = node\n",
        "    else:\n",
        "      self.tail = node\n",
        "      self.head = node\n",
        "    self.size += 1\n",
        "  def size(self):\n",
        "    count = 0\n",
        "    current = self.tail\n",
        "    while current:\n",
        "      count += 1\n",
        "      current = current.next\n",
        "    return count"
      ],
      "execution_count": 9,
      "outputs": []
    },
    {
      "cell_type": "code",
      "metadata": {
        "id": "tZeYL9580Irh",
        "colab": {
          "base_uri": "https://localhost:8080/"
        },
        "outputId": "45708016-17fc-4f0a-9db0-54da31673cdd"
      },
      "source": [
        "# A single node of a singly linked list\n",
        "class Node:\n",
        "  # constructor\n",
        "  def __init__(self, data = None, next=None): \n",
        "    self.data = data\n",
        "    self.next = next\n",
        "\n",
        "# A Linked List class with a single head node\n",
        "class LinkedList:\n",
        "  def __init__(self):  \n",
        "    self.head = None\n",
        "\n",
        "  #############################################\n",
        "  ############ INSERT NODES ###################\n",
        "  #############################################\n",
        "\n",
        "  ######### AT THE END (APPEND) ###############\n",
        "  def append(self, data):\n",
        "    newNode = Node(data)  ## Taking the data in the as a newNode\n",
        "    if(self.head):        ## if self.head is not None then     means :=>> Linked list is not empty \n",
        "      current = self.head ## define current node as head node\n",
        "      while(current.next):## While current node is not None\n",
        "        current = current.next# increase the current node by one node\n",
        "      current.next = newNode ## current node next is equal to newNode\n",
        "    else:\n",
        "      self.head = newNode  ## linked list is empty then simply add the new node\n",
        "  \n",
        "  ######### AT THE START (PREPAND) #############\n",
        "  def prepand(self,data):\n",
        "      newNode = Node(data) ## Create a node\n",
        "      newNode.next = self.head ## Ponit the next of the new node to the head\n",
        "      self.head = newNode ## paas the head to the new node\n",
        "  \n",
        "  ######### AFTER A NODE  #######################\n",
        "  def add(self,prev_node,data):\n",
        "      if not prev_node:\n",
        "          print(\"Previous node is not in the list\")\n",
        "          return\n",
        "      else:\n",
        "          newNode = Node(data)\n",
        "          newNode.next = prev_node.next\n",
        "          prev_node.next = newNode\n",
        "  \n",
        "  ######### PRINTING ALL THE ELEMENTS  ##############\n",
        "  def printLL(self):\n",
        "    current = self.head   ## current node as head \n",
        "    while(current):       ## While current node is  not None\n",
        "      print(current.data) ## Print the data part of the node   |data|next|\n",
        "      current = current.next ## Increase the current node with one node\n",
        "\n",
        "  ##################################################\n",
        "  ############ DELETE NODES ########################\n",
        "  ##################################################\n",
        "  \n",
        "  def delete_node(self,key):\n",
        "    current = self.head\n",
        "\n",
        "    ######### AT THE START ##########################\n",
        "    if current and current.data == key:\n",
        "      self.head = current.next\n",
        "      current = None\n",
        "      return \n",
        "    ######### IN THE MIDDLE AND THE END  ############\n",
        "    prev = None\n",
        "    while current and current.data != key:\n",
        "      prev = current\n",
        "      current = current.next\n",
        "    if current is None:\n",
        "      return\n",
        "    else :\n",
        "      prev.next = current.next# A---C\n",
        "      current = None #B =None\n",
        "    ##################################################\n",
        "    ######## DELETE NODE AT A GIVEN POSITION   #######\n",
        "    ##################################################    \n",
        "  def delete_node_at_pos(self,pos):\n",
        "    current = self.head\n",
        "\n",
        "    if pos == 0:\n",
        "      self.head = current.next\n",
        "      current = None\n",
        "\n",
        "    count = 1\n",
        "    prev = None\n",
        "    while current and count != pos:\n",
        "      prev = current\n",
        "      current = current.next\n",
        "      count+=1\n",
        "    if current is None:\n",
        "      return\n",
        "    else:\n",
        "      prev.next = current.next\n",
        "      current = None\n",
        "    ##################################################\n",
        "    ###### CALCULATE THE LENGTH OF THE LINKED LIST ### \n",
        "    ##################################################\n",
        "  def length(self):\n",
        "    current = self.head\n",
        "    length = 0\n",
        "    while(current):\n",
        "      length+=1\n",
        "      current = current.next\n",
        "    return length\n",
        "\n",
        "  def find(self,data):\n",
        "    #homework.....\n",
        "    current = self.head\n",
        "    pos=0\n",
        "    while(current):\n",
        "      if(current.data==data):\n",
        "        break\n",
        "      current=current.next\n",
        "      pos+=1\n",
        "    return pos\n",
        "\n",
        "# Singly Linked List with insertion and print methods\n",
        "LL = LinkedList()\n",
        "LL.append(\"A\")\n",
        "LL.append(\"B\")\n",
        "LL.append(\"C\")\n",
        "LL.append(\"D\")\n",
        "\n",
        "\n",
        "LL.printLL()\n",
        "print(LL.length())\n",
        "print(LL.find('B'))\n"
      ],
      "execution_count": 16,
      "outputs": [
        {
          "output_type": "stream",
          "text": [
            "A\n",
            "B\n",
            "C\n",
            "D\n",
            "4\n",
            "1\n"
          ],
          "name": "stdout"
        }
      ]
    },
    {
      "cell_type": "markdown",
      "metadata": {
        "id": "3WnjypEg9IvX"
      },
      "source": [
        "KAYNAKÇA\n",
        "\n",
        "https://ichi.pro/tr/python-kullanarak-tek-baglantili-liste-gelistirin-236662131007389"
      ]
    }
  ]
}